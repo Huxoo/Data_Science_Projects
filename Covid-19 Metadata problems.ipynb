{
 "cells": [
  {
   "cell_type": "code",
   "execution_count": 2,
   "id": "36045900",
   "metadata": {},
   "outputs": [],
   "source": [
    "import pandas as pd\n",
    "import numpy as np\n",
    "import matplotlib.pyplot as plt\n",
    "import seaborn as sns\n",
    "\n",
    "meta_data = pd.read_csv('metadata.csv', low_memory = False)\n",
    "df = meta_data.copy()"
   ]
  },
  {
   "cell_type": "markdown",
   "id": "b3406f5a",
   "metadata": {},
   "source": [
    "#### Burada sadece Covid - 19 verisinin 'metadata' yapısını dahil ettim. Çünkü veri gerçekten çok büyük(90 gb) dolayısıyla sadece metadata'nın üzerinde metin madenciliği yapacağım. Şimdi veriye bir ilk gözlem gerçekleştirelim. [verinin linki](https://www.kaggle.com/datasets/allen-institute-for-ai/CORD-19-research-challenge)"
   ]
  },
  {
   "cell_type": "code",
   "execution_count": 3,
   "id": "24b67e96",
   "metadata": {},
   "outputs": [
    {
     "data": {
      "text/html": [
       "<div>\n",
       "<style scoped>\n",
       "    .dataframe tbody tr th:only-of-type {\n",
       "        vertical-align: middle;\n",
       "    }\n",
       "\n",
       "    .dataframe tbody tr th {\n",
       "        vertical-align: top;\n",
       "    }\n",
       "\n",
       "    .dataframe thead th {\n",
       "        text-align: right;\n",
       "    }\n",
       "</style>\n",
       "<table border=\"1\" class=\"dataframe\">\n",
       "  <thead>\n",
       "    <tr style=\"text-align: right;\">\n",
       "      <th></th>\n",
       "      <th>cord_uid</th>\n",
       "      <th>sha</th>\n",
       "      <th>source_x</th>\n",
       "      <th>title</th>\n",
       "      <th>doi</th>\n",
       "      <th>pmcid</th>\n",
       "      <th>pubmed_id</th>\n",
       "      <th>license</th>\n",
       "      <th>abstract</th>\n",
       "      <th>publish_time</th>\n",
       "      <th>authors</th>\n",
       "      <th>journal</th>\n",
       "      <th>mag_id</th>\n",
       "      <th>who_covidence_id</th>\n",
       "      <th>arxiv_id</th>\n",
       "      <th>pdf_json_files</th>\n",
       "      <th>pmc_json_files</th>\n",
       "      <th>url</th>\n",
       "      <th>s2_id</th>\n",
       "    </tr>\n",
       "  </thead>\n",
       "  <tbody>\n",
       "    <tr>\n",
       "      <th>0</th>\n",
       "      <td>ug7v899j</td>\n",
       "      <td>d1aafb70c066a2068b02786f8929fd9c900897fb</td>\n",
       "      <td>PMC</td>\n",
       "      <td>Clinical features of culture-proven Mycoplasma...</td>\n",
       "      <td>10.1186/1471-2334-1-6</td>\n",
       "      <td>PMC35282</td>\n",
       "      <td>11472636</td>\n",
       "      <td>no-cc</td>\n",
       "      <td>OBJECTIVE: This retrospective chart review des...</td>\n",
       "      <td>2001-07-04</td>\n",
       "      <td>Madani, Tariq A; Al-Ghamdi, Aisha A</td>\n",
       "      <td>BMC Infect Dis</td>\n",
       "      <td>NaN</td>\n",
       "      <td>NaN</td>\n",
       "      <td>NaN</td>\n",
       "      <td>document_parses/pdf_json/d1aafb70c066a2068b027...</td>\n",
       "      <td>document_parses/pmc_json/PMC35282.xml.json</td>\n",
       "      <td>https://www.ncbi.nlm.nih.gov/pmc/articles/PMC3...</td>\n",
       "      <td>NaN</td>\n",
       "    </tr>\n",
       "    <tr>\n",
       "      <th>1</th>\n",
       "      <td>02tnwd4m</td>\n",
       "      <td>6b0567729c2143a66d737eb0a2f63f2dce2e5a7d</td>\n",
       "      <td>PMC</td>\n",
       "      <td>Nitric oxide: a pro-inflammatory mediator in l...</td>\n",
       "      <td>10.1186/rr14</td>\n",
       "      <td>PMC59543</td>\n",
       "      <td>11667967</td>\n",
       "      <td>no-cc</td>\n",
       "      <td>Inflammatory diseases of the respiratory tract...</td>\n",
       "      <td>2000-08-15</td>\n",
       "      <td>Vliet, Albert van der; Eiserich, Jason P; Cros...</td>\n",
       "      <td>Respir Res</td>\n",
       "      <td>NaN</td>\n",
       "      <td>NaN</td>\n",
       "      <td>NaN</td>\n",
       "      <td>document_parses/pdf_json/6b0567729c2143a66d737...</td>\n",
       "      <td>document_parses/pmc_json/PMC59543.xml.json</td>\n",
       "      <td>https://www.ncbi.nlm.nih.gov/pmc/articles/PMC5...</td>\n",
       "      <td>NaN</td>\n",
       "    </tr>\n",
       "    <tr>\n",
       "      <th>2</th>\n",
       "      <td>ejv2xln0</td>\n",
       "      <td>06ced00a5fc04215949aa72528f2eeaae1d58927</td>\n",
       "      <td>PMC</td>\n",
       "      <td>Surfactant protein-D and pulmonary host defense</td>\n",
       "      <td>10.1186/rr19</td>\n",
       "      <td>PMC59549</td>\n",
       "      <td>11667972</td>\n",
       "      <td>no-cc</td>\n",
       "      <td>Surfactant protein-D (SP-D) participates in th...</td>\n",
       "      <td>2000-08-25</td>\n",
       "      <td>Crouch, Erika C</td>\n",
       "      <td>Respir Res</td>\n",
       "      <td>NaN</td>\n",
       "      <td>NaN</td>\n",
       "      <td>NaN</td>\n",
       "      <td>document_parses/pdf_json/06ced00a5fc04215949aa...</td>\n",
       "      <td>document_parses/pmc_json/PMC59549.xml.json</td>\n",
       "      <td>https://www.ncbi.nlm.nih.gov/pmc/articles/PMC5...</td>\n",
       "      <td>NaN</td>\n",
       "    </tr>\n",
       "    <tr>\n",
       "      <th>3</th>\n",
       "      <td>2b73a28n</td>\n",
       "      <td>348055649b6b8cf2b9a376498df9bf41f7123605</td>\n",
       "      <td>PMC</td>\n",
       "      <td>Role of endothelin-1 in lung disease</td>\n",
       "      <td>10.1186/rr44</td>\n",
       "      <td>PMC59574</td>\n",
       "      <td>11686871</td>\n",
       "      <td>no-cc</td>\n",
       "      <td>Endothelin-1 (ET-1) is a 21 amino acid peptide...</td>\n",
       "      <td>2001-02-22</td>\n",
       "      <td>Fagan, Karen A; McMurtry, Ivan F; Rodman, David M</td>\n",
       "      <td>Respir Res</td>\n",
       "      <td>NaN</td>\n",
       "      <td>NaN</td>\n",
       "      <td>NaN</td>\n",
       "      <td>document_parses/pdf_json/348055649b6b8cf2b9a37...</td>\n",
       "      <td>document_parses/pmc_json/PMC59574.xml.json</td>\n",
       "      <td>https://www.ncbi.nlm.nih.gov/pmc/articles/PMC5...</td>\n",
       "      <td>NaN</td>\n",
       "    </tr>\n",
       "    <tr>\n",
       "      <th>4</th>\n",
       "      <td>9785vg6d</td>\n",
       "      <td>5f48792a5fa08bed9f56016f4981ae2ca6031b32</td>\n",
       "      <td>PMC</td>\n",
       "      <td>Gene expression in epithelial cells in respons...</td>\n",
       "      <td>10.1186/rr61</td>\n",
       "      <td>PMC59580</td>\n",
       "      <td>11686888</td>\n",
       "      <td>no-cc</td>\n",
       "      <td>Respiratory syncytial virus (RSV) and pneumoni...</td>\n",
       "      <td>2001-05-11</td>\n",
       "      <td>Domachowske, Joseph B; Bonville, Cynthia A; Ro...</td>\n",
       "      <td>Respir Res</td>\n",
       "      <td>NaN</td>\n",
       "      <td>NaN</td>\n",
       "      <td>NaN</td>\n",
       "      <td>document_parses/pdf_json/5f48792a5fa08bed9f560...</td>\n",
       "      <td>document_parses/pmc_json/PMC59580.xml.json</td>\n",
       "      <td>https://www.ncbi.nlm.nih.gov/pmc/articles/PMC5...</td>\n",
       "      <td>NaN</td>\n",
       "    </tr>\n",
       "  </tbody>\n",
       "</table>\n",
       "</div>"
      ],
      "text/plain": [
       "   cord_uid                                       sha source_x  \\\n",
       "0  ug7v899j  d1aafb70c066a2068b02786f8929fd9c900897fb      PMC   \n",
       "1  02tnwd4m  6b0567729c2143a66d737eb0a2f63f2dce2e5a7d      PMC   \n",
       "2  ejv2xln0  06ced00a5fc04215949aa72528f2eeaae1d58927      PMC   \n",
       "3  2b73a28n  348055649b6b8cf2b9a376498df9bf41f7123605      PMC   \n",
       "4  9785vg6d  5f48792a5fa08bed9f56016f4981ae2ca6031b32      PMC   \n",
       "\n",
       "                                               title                    doi  \\\n",
       "0  Clinical features of culture-proven Mycoplasma...  10.1186/1471-2334-1-6   \n",
       "1  Nitric oxide: a pro-inflammatory mediator in l...           10.1186/rr14   \n",
       "2    Surfactant protein-D and pulmonary host defense           10.1186/rr19   \n",
       "3               Role of endothelin-1 in lung disease           10.1186/rr44   \n",
       "4  Gene expression in epithelial cells in respons...           10.1186/rr61   \n",
       "\n",
       "      pmcid pubmed_id license  \\\n",
       "0  PMC35282  11472636   no-cc   \n",
       "1  PMC59543  11667967   no-cc   \n",
       "2  PMC59549  11667972   no-cc   \n",
       "3  PMC59574  11686871   no-cc   \n",
       "4  PMC59580  11686888   no-cc   \n",
       "\n",
       "                                            abstract publish_time  \\\n",
       "0  OBJECTIVE: This retrospective chart review des...   2001-07-04   \n",
       "1  Inflammatory diseases of the respiratory tract...   2000-08-15   \n",
       "2  Surfactant protein-D (SP-D) participates in th...   2000-08-25   \n",
       "3  Endothelin-1 (ET-1) is a 21 amino acid peptide...   2001-02-22   \n",
       "4  Respiratory syncytial virus (RSV) and pneumoni...   2001-05-11   \n",
       "\n",
       "                                             authors         journal  mag_id  \\\n",
       "0                Madani, Tariq A; Al-Ghamdi, Aisha A  BMC Infect Dis     NaN   \n",
       "1  Vliet, Albert van der; Eiserich, Jason P; Cros...      Respir Res     NaN   \n",
       "2                                    Crouch, Erika C      Respir Res     NaN   \n",
       "3  Fagan, Karen A; McMurtry, Ivan F; Rodman, David M      Respir Res     NaN   \n",
       "4  Domachowske, Joseph B; Bonville, Cynthia A; Ro...      Respir Res     NaN   \n",
       "\n",
       "  who_covidence_id arxiv_id  \\\n",
       "0              NaN      NaN   \n",
       "1              NaN      NaN   \n",
       "2              NaN      NaN   \n",
       "3              NaN      NaN   \n",
       "4              NaN      NaN   \n",
       "\n",
       "                                      pdf_json_files  \\\n",
       "0  document_parses/pdf_json/d1aafb70c066a2068b027...   \n",
       "1  document_parses/pdf_json/6b0567729c2143a66d737...   \n",
       "2  document_parses/pdf_json/06ced00a5fc04215949aa...   \n",
       "3  document_parses/pdf_json/348055649b6b8cf2b9a37...   \n",
       "4  document_parses/pdf_json/5f48792a5fa08bed9f560...   \n",
       "\n",
       "                               pmc_json_files  \\\n",
       "0  document_parses/pmc_json/PMC35282.xml.json   \n",
       "1  document_parses/pmc_json/PMC59543.xml.json   \n",
       "2  document_parses/pmc_json/PMC59549.xml.json   \n",
       "3  document_parses/pmc_json/PMC59574.xml.json   \n",
       "4  document_parses/pmc_json/PMC59580.xml.json   \n",
       "\n",
       "                                                 url  s2_id  \n",
       "0  https://www.ncbi.nlm.nih.gov/pmc/articles/PMC3...    NaN  \n",
       "1  https://www.ncbi.nlm.nih.gov/pmc/articles/PMC5...    NaN  \n",
       "2  https://www.ncbi.nlm.nih.gov/pmc/articles/PMC5...    NaN  \n",
       "3  https://www.ncbi.nlm.nih.gov/pmc/articles/PMC5...    NaN  \n",
       "4  https://www.ncbi.nlm.nih.gov/pmc/articles/PMC5...    NaN  "
      ]
     },
     "execution_count": 3,
     "metadata": {},
     "output_type": "execute_result"
    }
   ],
   "source": [
    "df.head()"
   ]
  },
  {
   "cell_type": "markdown",
   "id": "3d5985c6",
   "metadata": {},
   "source": [
    "#### Şimdi göz ucuyla baktığımız zaman kategorisel veriler daha fazla olduğunu gözlemliyoruz. Ancak diğer önemli bilgileri de gözlemlemeye çalışalım."
   ]
  },
  {
   "cell_type": "code",
   "execution_count": 4,
   "id": "e671a5bf",
   "metadata": {},
   "outputs": [
    {
     "name": "stdout",
     "output_type": "stream",
     "text": [
      " ndim: 2\n",
      " shape: (1056660, 19)\n",
      " size: 20076540\n",
      "\n"
     ]
    }
   ],
   "source": [
    "print(f\" ndim: {df.ndim}\\n shape: {df.shape}\\n size: {df.size}\\n\")"
   ]
  },
  {
   "cell_type": "code",
   "execution_count": 5,
   "id": "ac9630fc",
   "metadata": {},
   "outputs": [
    {
     "name": "stdout",
     "output_type": "stream",
     "text": [
      "<class 'pandas.core.frame.DataFrame'>\n",
      "RangeIndex: 1056660 entries, 0 to 1056659\n",
      "Data columns (total 19 columns):\n",
      " #   Column            Non-Null Count    Dtype  \n",
      "---  ------            --------------    -----  \n",
      " 0   cord_uid          1056660 non-null  object \n",
      " 1   sha               373766 non-null   object \n",
      " 2   source_x          1056660 non-null  object \n",
      " 3   title             1056157 non-null  object \n",
      " 4   doi               656780 non-null   object \n",
      " 5   pmcid             389571 non-null   object \n",
      " 6   pubmed_id         498932 non-null   object \n",
      " 7   license           1056660 non-null  object \n",
      " 8   abstract          821118 non-null   object \n",
      " 9   publish_time      1054846 non-null  object \n",
      " 10  authors           1032791 non-null  object \n",
      " 11  journal           969338 non-null   object \n",
      " 12  mag_id            0 non-null        float64\n",
      " 13  who_covidence_id  482935 non-null   object \n",
      " 14  arxiv_id          14249 non-null    object \n",
      " 15  pdf_json_files    373766 non-null   object \n",
      " 16  pmc_json_files    315742 non-null   object \n",
      " 17  url               686934 non-null   object \n",
      " 18  s2_id             976468 non-null   float64\n",
      "dtypes: float64(2), object(17)\n",
      "memory usage: 153.2+ MB\n"
     ]
    }
   ],
   "source": [
    "df.info()"
   ]
  },
  {
   "cell_type": "markdown",
   "id": "2c6d0eea",
   "metadata": {},
   "source": [
    "#### Evet farkedildiği üzere verimiz baya büyük ve içerisinde bolca 'object' veri saklıyor. Eksikler ve aykırı değerler vs. var ama bunlara pek takılmadan sadece metinleri nasıl işleyebileceğimizi gözlemlemeye çalışacağım. Bunlar rastgele de olabilir fakat değerleri önemli sonuç olarak..."
   ]
  },
  {
   "cell_type": "code",
   "execution_count": 6,
   "id": "d78f82e2",
   "metadata": {},
   "outputs": [
    {
     "data": {
      "text/plain": [
       "cord_uid                  0\n",
       "sha                  682894\n",
       "source_x                  0\n",
       "title                   503\n",
       "doi                  399880\n",
       "pmcid                667089\n",
       "pubmed_id            557728\n",
       "license                   0\n",
       "abstract             235542\n",
       "publish_time           1814\n",
       "authors               23869\n",
       "journal               87322\n",
       "mag_id              1056660\n",
       "who_covidence_id     573725\n",
       "arxiv_id            1042411\n",
       "pdf_json_files       682894\n",
       "pmc_json_files       740918\n",
       "url                  369726\n",
       "s2_id                 80192\n",
       "dtype: int64"
      ]
     },
     "execution_count": 6,
     "metadata": {},
     "output_type": "execute_result"
    }
   ],
   "source": [
    "df.isnull().sum()"
   ]
  },
  {
   "cell_type": "markdown",
   "id": "d0bdb6f0",
   "metadata": {},
   "source": [
    "#### Evet görüldüğü üzere baya bir 'null' değer mevcut. Fakat sorun değil bunlarla uğraşmayacağız. Şimdi de içerisinde sadece' text' barındıran verileri ayrı bir değişkende gözlemleyelim."
   ]
  },
  {
   "cell_type": "code",
   "execution_count": 7,
   "id": "7932773e",
   "metadata": {},
   "outputs": [
    {
     "data": {
      "text/html": [
       "<div>\n",
       "<style scoped>\n",
       "    .dataframe tbody tr th:only-of-type {\n",
       "        vertical-align: middle;\n",
       "    }\n",
       "\n",
       "    .dataframe tbody tr th {\n",
       "        vertical-align: top;\n",
       "    }\n",
       "\n",
       "    .dataframe thead th {\n",
       "        text-align: right;\n",
       "    }\n",
       "</style>\n",
       "<table border=\"1\" class=\"dataframe\">\n",
       "  <thead>\n",
       "    <tr style=\"text-align: right;\">\n",
       "      <th></th>\n",
       "      <th>0</th>\n",
       "      <th>1</th>\n",
       "      <th>2</th>\n",
       "      <th>3</th>\n",
       "      <th>4</th>\n",
       "      <th>5</th>\n",
       "      <th>6</th>\n",
       "      <th>7</th>\n",
       "      <th>8</th>\n",
       "      <th>9</th>\n",
       "      <th>...</th>\n",
       "      <th>1056650</th>\n",
       "      <th>1056651</th>\n",
       "      <th>1056652</th>\n",
       "      <th>1056653</th>\n",
       "      <th>1056654</th>\n",
       "      <th>1056655</th>\n",
       "      <th>1056656</th>\n",
       "      <th>1056657</th>\n",
       "      <th>1056658</th>\n",
       "      <th>1056659</th>\n",
       "    </tr>\n",
       "  </thead>\n",
       "  <tbody>\n",
       "    <tr>\n",
       "      <th>source_x</th>\n",
       "      <td>PMC</td>\n",
       "      <td>PMC</td>\n",
       "      <td>PMC</td>\n",
       "      <td>PMC</td>\n",
       "      <td>PMC</td>\n",
       "      <td>PMC</td>\n",
       "      <td>PMC</td>\n",
       "      <td>PMC</td>\n",
       "      <td>PMC</td>\n",
       "      <td>PMC</td>\n",
       "      <td>...</td>\n",
       "      <td>Elsevier; Medline; PMC; WHO</td>\n",
       "      <td>Medline; WHO</td>\n",
       "      <td>Medline; WHO</td>\n",
       "      <td>Elsevier; Medline; PMC; WHO</td>\n",
       "      <td>Elsevier; PMC; WHO</td>\n",
       "      <td>BioRxiv; MedRxiv; WHO</td>\n",
       "      <td>Elsevier; Medline; PMC</td>\n",
       "      <td>Medline; PMC</td>\n",
       "      <td>Medline; PMC</td>\n",
       "      <td>Medline; PMC</td>\n",
       "    </tr>\n",
       "    <tr>\n",
       "      <th>title</th>\n",
       "      <td>Clinical features of culture-proven Mycoplasma...</td>\n",
       "      <td>Nitric oxide: a pro-inflammatory mediator in l...</td>\n",
       "      <td>Surfactant protein-D and pulmonary host defense</td>\n",
       "      <td>Role of endothelin-1 in lung disease</td>\n",
       "      <td>Gene expression in epithelial cells in respons...</td>\n",
       "      <td>Sequence requirements for RNA strand transfer ...</td>\n",
       "      <td>Debate: Transfusing to normal haemoglobin leve...</td>\n",
       "      <td>The 21st International Symposium on Intensive ...</td>\n",
       "      <td>Heme oxygenase-1 and carbon monoxide in pulmon...</td>\n",
       "      <td>Technical Description of RODS: A Real-time Pub...</td>\n",
       "      <td>...</td>\n",
       "      <td>2022 ACC Expert Consensus Decision Pathway on ...</td>\n",
       "      <td>SCLE manifestation after mRNA COVID-19 vaccina...</td>\n",
       "      <td>Bioinspired porous microspheres for sustained ...</td>\n",
       "      <td>“Chronic granulomatous invasive fungal rhinosi...</td>\n",
       "      <td>Chinese Herbal Medicine Telehealth Outcomes fo...</td>\n",
       "      <td>Potent neutralization of 2019 novel coronaviru...</td>\n",
       "      <td>Molecular-based diagnostics, including future ...</td>\n",
       "      <td>A Patient With Bilateral Conjunctivitis Positi...</td>\n",
       "      <td>Incidental lowering of otitis-media complaints...</td>\n",
       "      <td>Hospital variation in admissions to neonatal i...</td>\n",
       "    </tr>\n",
       "    <tr>\n",
       "      <th>license</th>\n",
       "      <td>no-cc</td>\n",
       "      <td>no-cc</td>\n",
       "      <td>no-cc</td>\n",
       "      <td>no-cc</td>\n",
       "      <td>no-cc</td>\n",
       "      <td>green-oa</td>\n",
       "      <td>no-cc</td>\n",
       "      <td>no-cc</td>\n",
       "      <td>no-cc</td>\n",
       "      <td>bronze-oa</td>\n",
       "      <td>...</td>\n",
       "      <td>no-cc</td>\n",
       "      <td>unk</td>\n",
       "      <td>unk</td>\n",
       "      <td>no-cc</td>\n",
       "      <td>els-covid</td>\n",
       "      <td>medrxiv</td>\n",
       "      <td>no-cc</td>\n",
       "      <td>no-cc</td>\n",
       "      <td>no-cc</td>\n",
       "      <td>no-cc</td>\n",
       "    </tr>\n",
       "    <tr>\n",
       "      <th>abstract</th>\n",
       "      <td>OBJECTIVE: This retrospective chart review des...</td>\n",
       "      <td>Inflammatory diseases of the respiratory tract...</td>\n",
       "      <td>Surfactant protein-D (SP-D) participates in th...</td>\n",
       "      <td>Endothelin-1 (ET-1) is a 21 amino acid peptide...</td>\n",
       "      <td>Respiratory syncytial virus (RSV) and pneumoni...</td>\n",
       "      <td>Nidovirus subgenomic mRNAs contain a leader se...</td>\n",
       "      <td>Recent evidence suggests that critically ill p...</td>\n",
       "      <td>The 21st International Symposium on Intensive ...</td>\n",
       "      <td>Heme oxygenase-1 (HO-1), an inducible stress p...</td>\n",
       "      <td>This report describes the design and implement...</td>\n",
       "      <td>...</td>\n",
       "      <td>NaN</td>\n",
       "      <td>NaN</td>\n",
       "      <td>Exosomes derived from mesenchymal stem cells (...</td>\n",
       "      <td>INTRODUCTION AND IMPORTANCE: Granulomatous chr...</td>\n",
       "      <td>Introduction: Given the seriousness of Coronav...</td>\n",
       "      <td>2019-nCoV, which is a novel coronavirus emerge...</td>\n",
       "      <td>Microbiology laboratories have traditionally r...</td>\n",
       "      <td>To present a patient with bilateral conjunctiv...</td>\n",
       "      <td>Given COVID-19 pandemic periodic outpatient as...</td>\n",
       "      <td>OBJECTIVE: To examine interhospital variation ...</td>\n",
       "    </tr>\n",
       "    <tr>\n",
       "      <th>publish_time</th>\n",
       "      <td>2001-07-04</td>\n",
       "      <td>2000-08-15</td>\n",
       "      <td>2000-08-25</td>\n",
       "      <td>2001-02-22</td>\n",
       "      <td>2001-05-11</td>\n",
       "      <td>2001-12-17</td>\n",
       "      <td>2001-03-08</td>\n",
       "      <td>2001-05-02</td>\n",
       "      <td>2003-08-07</td>\n",
       "      <td>2003-09-01</td>\n",
       "      <td>...</td>\n",
       "      <td>2022-03-16</td>\n",
       "      <td>2021-12-20</td>\n",
       "      <td>2022</td>\n",
       "      <td>2021-12-02</td>\n",
       "      <td>2021-12-31</td>\n",
       "      <td>2020-02-02</td>\n",
       "      <td>2013-10-28</td>\n",
       "      <td>2020-07-02</td>\n",
       "      <td>2020-07-20</td>\n",
       "      <td>2020-08-14</td>\n",
       "    </tr>\n",
       "  </tbody>\n",
       "</table>\n",
       "<p>5 rows × 1056660 columns</p>\n",
       "</div>"
      ],
      "text/plain": [
       "                                                        0        \\\n",
       "source_x                                                    PMC   \n",
       "title         Clinical features of culture-proven Mycoplasma...   \n",
       "license                                                   no-cc   \n",
       "abstract      OBJECTIVE: This retrospective chart review des...   \n",
       "publish_time                                         2001-07-04   \n",
       "\n",
       "                                                        1        \\\n",
       "source_x                                                    PMC   \n",
       "title         Nitric oxide: a pro-inflammatory mediator in l...   \n",
       "license                                                   no-cc   \n",
       "abstract      Inflammatory diseases of the respiratory tract...   \n",
       "publish_time                                         2000-08-15   \n",
       "\n",
       "                                                        2        \\\n",
       "source_x                                                    PMC   \n",
       "title           Surfactant protein-D and pulmonary host defense   \n",
       "license                                                   no-cc   \n",
       "abstract      Surfactant protein-D (SP-D) participates in th...   \n",
       "publish_time                                         2000-08-25   \n",
       "\n",
       "                                                        3        \\\n",
       "source_x                                                    PMC   \n",
       "title                      Role of endothelin-1 in lung disease   \n",
       "license                                                   no-cc   \n",
       "abstract      Endothelin-1 (ET-1) is a 21 amino acid peptide...   \n",
       "publish_time                                         2001-02-22   \n",
       "\n",
       "                                                        4        \\\n",
       "source_x                                                    PMC   \n",
       "title         Gene expression in epithelial cells in respons...   \n",
       "license                                                   no-cc   \n",
       "abstract      Respiratory syncytial virus (RSV) and pneumoni...   \n",
       "publish_time                                         2001-05-11   \n",
       "\n",
       "                                                        5        \\\n",
       "source_x                                                    PMC   \n",
       "title         Sequence requirements for RNA strand transfer ...   \n",
       "license                                                green-oa   \n",
       "abstract      Nidovirus subgenomic mRNAs contain a leader se...   \n",
       "publish_time                                         2001-12-17   \n",
       "\n",
       "                                                        6        \\\n",
       "source_x                                                    PMC   \n",
       "title         Debate: Transfusing to normal haemoglobin leve...   \n",
       "license                                                   no-cc   \n",
       "abstract      Recent evidence suggests that critically ill p...   \n",
       "publish_time                                         2001-03-08   \n",
       "\n",
       "                                                        7        \\\n",
       "source_x                                                    PMC   \n",
       "title         The 21st International Symposium on Intensive ...   \n",
       "license                                                   no-cc   \n",
       "abstract      The 21st International Symposium on Intensive ...   \n",
       "publish_time                                         2001-05-02   \n",
       "\n",
       "                                                        8        \\\n",
       "source_x                                                    PMC   \n",
       "title         Heme oxygenase-1 and carbon monoxide in pulmon...   \n",
       "license                                                   no-cc   \n",
       "abstract      Heme oxygenase-1 (HO-1), an inducible stress p...   \n",
       "publish_time                                         2003-08-07   \n",
       "\n",
       "                                                        9        ...  \\\n",
       "source_x                                                    PMC  ...   \n",
       "title         Technical Description of RODS: A Real-time Pub...  ...   \n",
       "license                                               bronze-oa  ...   \n",
       "abstract      This report describes the design and implement...  ...   \n",
       "publish_time                                         2003-09-01  ...   \n",
       "\n",
       "                                                        1056650  \\\n",
       "source_x                            Elsevier; Medline; PMC; WHO   \n",
       "title         2022 ACC Expert Consensus Decision Pathway on ...   \n",
       "license                                                   no-cc   \n",
       "abstract                                                    NaN   \n",
       "publish_time                                         2022-03-16   \n",
       "\n",
       "                                                        1056651  \\\n",
       "source_x                                           Medline; WHO   \n",
       "title         SCLE manifestation after mRNA COVID-19 vaccina...   \n",
       "license                                                     unk   \n",
       "abstract                                                    NaN   \n",
       "publish_time                                         2021-12-20   \n",
       "\n",
       "                                                        1056652  \\\n",
       "source_x                                           Medline; WHO   \n",
       "title         Bioinspired porous microspheres for sustained ...   \n",
       "license                                                     unk   \n",
       "abstract      Exosomes derived from mesenchymal stem cells (...   \n",
       "publish_time                                               2022   \n",
       "\n",
       "                                                        1056653  \\\n",
       "source_x                            Elsevier; Medline; PMC; WHO   \n",
       "title         “Chronic granulomatous invasive fungal rhinosi...   \n",
       "license                                                   no-cc   \n",
       "abstract      INTRODUCTION AND IMPORTANCE: Granulomatous chr...   \n",
       "publish_time                                         2021-12-02   \n",
       "\n",
       "                                                        1056654  \\\n",
       "source_x                                     Elsevier; PMC; WHO   \n",
       "title         Chinese Herbal Medicine Telehealth Outcomes fo...   \n",
       "license                                               els-covid   \n",
       "abstract      Introduction: Given the seriousness of Coronav...   \n",
       "publish_time                                         2021-12-31   \n",
       "\n",
       "                                                        1056655  \\\n",
       "source_x                                  BioRxiv; MedRxiv; WHO   \n",
       "title         Potent neutralization of 2019 novel coronaviru...   \n",
       "license                                                 medrxiv   \n",
       "abstract      2019-nCoV, which is a novel coronavirus emerge...   \n",
       "publish_time                                         2020-02-02   \n",
       "\n",
       "                                                        1056656  \\\n",
       "source_x                                 Elsevier; Medline; PMC   \n",
       "title         Molecular-based diagnostics, including future ...   \n",
       "license                                                   no-cc   \n",
       "abstract      Microbiology laboratories have traditionally r...   \n",
       "publish_time                                         2013-10-28   \n",
       "\n",
       "                                                        1056657  \\\n",
       "source_x                                           Medline; PMC   \n",
       "title         A Patient With Bilateral Conjunctivitis Positi...   \n",
       "license                                                   no-cc   \n",
       "abstract      To present a patient with bilateral conjunctiv...   \n",
       "publish_time                                         2020-07-02   \n",
       "\n",
       "                                                        1056658  \\\n",
       "source_x                                           Medline; PMC   \n",
       "title         Incidental lowering of otitis-media complaints...   \n",
       "license                                                   no-cc   \n",
       "abstract      Given COVID-19 pandemic periodic outpatient as...   \n",
       "publish_time                                         2020-07-20   \n",
       "\n",
       "                                                        1056659  \n",
       "source_x                                           Medline; PMC  \n",
       "title         Hospital variation in admissions to neonatal i...  \n",
       "license                                                   no-cc  \n",
       "abstract      OBJECTIVE: To examine interhospital variation ...  \n",
       "publish_time                                         2020-08-14  \n",
       "\n",
       "[5 rows x 1056660 columns]"
      ]
     },
     "execution_count": 7,
     "metadata": {},
     "output_type": "execute_result"
    }
   ],
   "source": [
    "clean_data = []\n",
    "source =df['source_x']\n",
    "tit = df['title']\n",
    "lic = df['license']\n",
    "abstr = df['abstract']\n",
    "publish = df['publish_time']\n",
    "auth = df['authors']\n",
    "journ = df['journal']\n",
    "\n",
    "data = [source, tit, lic, abstr, publish, auth, journ]\n",
    "for file in data:\n",
    "    clean_data.append(file)\n",
    "    \n",
    "clean_df =pd.DataFrame(clean_data)\n",
    "clean_df.head()"
   ]
  },
  {
   "cell_type": "code",
   "execution_count": 8,
   "id": "c7a9183c",
   "metadata": {},
   "outputs": [
    {
     "data": {
      "text/plain": [
       "[(nan, 503),\n",
       " ('Reply', 251),\n",
       " ('Department of Error', 153),\n",
       " ('Corrigendum', 114),\n",
       " ('Correction', 103),\n",
       " ('Erratum', 101),\n",
       " ('ACR Convergence 2020 Abstract Supplement', 99),\n",
       " ('Guest editorial', 81),\n",
       " ('The authors reply', 79),\n",
       " ('Response', 73)]"
      ]
     },
     "execution_count": 8,
     "metadata": {},
     "output_type": "execute_result"
    }
   ],
   "source": [
    "import nltk\n",
    "import nltk.corpus\n",
    "from nltk.probability import FreqDist\n",
    "\n",
    "title = df['title']\n",
    "frq = FreqDist(title)\n",
    "most_word  = frq.most_common(10)\n",
    "most_word"
   ]
  },
  {
   "cell_type": "markdown",
   "id": "c4347b53",
   "metadata": {},
   "source": [
    "#### Şimdi burada en basitiyle 'nltk' metin vericiliği kütüphanesiyle bir işlem gerçekleştirdik. Veri setimizdeki 'title' değişkeninin içine girerek tüm kelimeleri taradık ve bu tüm cümlelerin içinden en çok geçen 10 kelimeyi ekrana döktük. Mesela 'nan' kelimesi 500 küsur cümlelerde geçerek birinci sırada. Bunu kullanarak tercih edilen kelimelere göre bir analiz gerçekleştirebiliriz. "
   ]
  },
  {
   "cell_type": "code",
   "execution_count": 9,
   "id": "984cf303",
   "metadata": {},
   "outputs": [],
   "source": [
    "df['abstract'] = df['abstract'].fillna(\"\")"
   ]
  },
  {
   "cell_type": "code",
   "execution_count": 10,
   "id": "25b047aa",
   "metadata": {},
   "outputs": [
    {
     "data": {
      "text/plain": [
       "0    OBJECTIVE: This retrospective chart review des...\n",
       "1    Inflammatory diseases respiratory tract common...\n",
       "2    Surfactant protein-D (SP-D) participates innat...\n",
       "3    Endothelin-1 (ET-1) 21 amino acid peptide dive...\n",
       "4    Respiratory syncytial virus (RSV) pneumonia vi...\n",
       "Name: abstract, dtype: object"
      ]
     },
     "execution_count": 10,
     "metadata": {},
     "output_type": "execute_result"
    }
   ],
   "source": [
    "from nltk.corpus import stopwords\n",
    "sw = stopwords.words('english')\n",
    "\n",
    "text = df['abstract'].apply(lambda x: \" \".join(x for x in x.split() if x not in sw))\n",
    "text.head()"
   ]
  },
  {
   "cell_type": "markdown",
   "id": "e0195276",
   "metadata": {},
   "source": [
    "#### Burada da stopwords yanii duran kelimeleri kaldırma işlemi uyguladık. İlk olarak 'abstract' değişkenimizin içindeki 'NaN' değerleri fillna işlemi ile doldurduk ve sonrasında kütüphanemizi dahil edip stopword fonksiyonuna dahil olan ingilizce kelimelerin listesine eriştik. Artık son olarak lambda fonksiyonunu da kullanarak bu yapının içerisinde gezinip duran kelimeleri 'abstract' yapısının içerisinden çıkarmayı başardık. Örneğin 'and', 'the' vs. gibi."
   ]
  },
  {
   "cell_type": "code",
   "execution_count": 15,
   "id": "c5b1009f",
   "metadata": {},
   "outputs": [
    {
     "data": {
      "text/plain": [
       "[('Chinese Herbal Medicine Telehealth Outcomes for Symptoms Possibly Related to COVID-19',\n",
       "  1),\n",
       " ('Potent neutralization of 2019 novel coronavirus by recombinant ACE2-Ig', 1),\n",
       " ('Molecular-based diagnostics, including future trends', 1),\n",
       " ('A Patient With Bilateral Conjunctivitis Positive for SARS-CoV-2 RNA in a Conjunctival Sample',\n",
       "  1),\n",
       " ('Hospital variation in admissions to neonatal intensive care units by diagnosis severity and category',\n",
       "  1)]"
      ]
     },
     "execution_count": 15,
     "metadata": {},
     "output_type": "execute_result"
    }
   ],
   "source": [
    "title = df['title']\n",
    "frq = FreqDist(title)\n",
    "few_word = frq.most_common()[-5:]\n",
    "few_word"
   ]
  },
  {
   "cell_type": "code",
   "execution_count": 18,
   "id": "429595b1",
   "metadata": {},
   "outputs": [
    {
     "data": {
      "text/plain": [
       "0          Clinical features of culture-proven Mycoplasma...\n",
       "1          Nitric oxide: a pro-inflammatory mediator in l...\n",
       "2            Surfactant protein-D and pulmonary host defense\n",
       "3                       Role of endothelin-1 in lung disease\n",
       "4          Gene expression in epithelial cells in respons...\n",
       "                                 ...                        \n",
       "1056655    Potent neutralization of 2019 novel coronaviru...\n",
       "1056656    Molecular-based diagnostics, including future ...\n",
       "1056657    A Patient With Bilateral Conjunctivitis Positi...\n",
       "1056658    Incidental lowering of otitis-media complaints...\n",
       "1056659    Hospital variation in admissions to neonatal i...\n",
       "Name: title, Length: 1056660, dtype: object"
      ]
     },
     "execution_count": 18,
     "metadata": {},
     "output_type": "execute_result"
    }
   ],
   "source": [
    "df['title'] = df['title'].fillna(\"\")\n",
    "title = df['title']\n",
    "frq = FreqDist(title)\n",
    "few_word = frq.most_common()[-5:]\n",
    "few_word_del= df['title'].apply(lambda x: \" \".join(x for x in x.split() if x not in few_word))\n",
    "few_word_del"
   ]
  },
  {
   "cell_type": "markdown",
   "id": "3207e654",
   "metadata": {},
   "source": [
    "#### Bu sefer de en az kullanılan kelimleri bulup silme işlemi gerçekleştirdik. Bu da verinin rahatlaması için ön ayak oldu bize."
   ]
  },
  {
   "cell_type": "code",
   "execution_count": 19,
   "id": "034afb5b",
   "metadata": {},
   "outputs": [
    {
     "name": "stderr",
     "output_type": "stream",
     "text": [
      "[nltk_data] Downloading package punkt to C:\\Users\\husey/nltk_data...\n",
      "[nltk_data]   Unzipping tokenizers\\punkt.zip.\n"
     ]
    },
    {
     "data": {
      "text/plain": [
       "True"
      ]
     },
     "execution_count": 19,
     "metadata": {},
     "output_type": "execute_result"
    }
   ],
   "source": [
    "nltk.download('punkt')"
   ]
  },
  {
   "cell_type": "code",
   "execution_count": 20,
   "id": "25330643",
   "metadata": {
    "collapsed": true
   },
   "outputs": [
    {
     "name": "stdout",
     "output_type": "stream",
     "text": [
      "Collecting textblob\n",
      "  Downloading textblob-0.17.1-py2.py3-none-any.whl (636 kB)\n",
      "Requirement already satisfied: nltk>=3.1 in c:\\users\\husey\\anaconda3\\lib\\site-packages (from textblob) (3.7)\n",
      "Requirement already satisfied: click in c:\\users\\husey\\anaconda3\\lib\\site-packages (from nltk>=3.1->textblob) (8.0.4)\n",
      "Requirement already satisfied: joblib in c:\\users\\husey\\anaconda3\\lib\\site-packages (from nltk>=3.1->textblob) (1.1.0)\n",
      "Requirement already satisfied: tqdm in c:\\users\\husey\\anaconda3\\lib\\site-packages (from nltk>=3.1->textblob) (4.64.0)\n",
      "Requirement already satisfied: regex>=2021.8.3 in c:\\users\\husey\\anaconda3\\lib\\site-packages (from nltk>=3.1->textblob) (2022.3.15)\n",
      "Requirement already satisfied: colorama in c:\\users\\husey\\anaconda3\\lib\\site-packages (from click->nltk>=3.1->textblob) (0.4.4)\n",
      "Installing collected packages: textblob\n",
      "Successfully installed textblob-0.17.1\n"
     ]
    }
   ],
   "source": [
    "#!pip install textblob"
   ]
  },
  {
   "cell_type": "code",
   "execution_count": 25,
   "id": "1c1b481d",
   "metadata": {},
   "outputs": [
    {
     "data": {
      "text/plain": [
       "WordList(['Nitric', 'oxide', 'a', 'pro-inflammatory', 'mediator', 'in', 'lung', 'disease'])"
      ]
     },
     "execution_count": 25,
     "metadata": {},
     "output_type": "execute_result"
    }
   ],
   "source": [
    "import textblob\n",
    "from textblob import TextBlob\n",
    "TextBlob(df['title'][1]).words"
   ]
  },
  {
   "cell_type": "code",
   "execution_count": 27,
   "id": "09d9f077",
   "metadata": {},
   "outputs": [
    {
     "data": {
      "text/plain": [
       "WordList(['Conservation', 'of', 'polyamine', 'regulation', 'by', 'translational', 'frameshifting', 'from', 'yeast', 'to', 'mammals'])"
      ]
     },
     "execution_count": 27,
     "metadata": {},
     "output_type": "execute_result"
    }
   ],
   "source": [
    "aa = df['title'].apply(lambda x: TextBlob(x).words)\n",
    "aa[10]"
   ]
  },
  {
   "cell_type": "markdown",
   "id": "9e01e7ad",
   "metadata": {},
   "source": [
    "#### Verilen text'in içindeki cümleleri kelime kelime dönüştürme işlemi gerçekleştirmiş olduk. Bunun dışında farklı gözlemler de yapılabilir fakat burada sınırlamak istiyorum. Çünkü veri çok büyük ve bilgisayarı çok yoruyor. Bir çıktı alabilmek için fevkalade zaman harcamak gerekiyor."
   ]
  },
  {
   "cell_type": "code",
   "execution_count": null,
   "id": "6ffb3bfb",
   "metadata": {},
   "outputs": [],
   "source": []
  }
 ],
 "metadata": {
  "kernelspec": {
   "display_name": "Python 3 (ipykernel)",
   "language": "python",
   "name": "python3"
  },
  "language_info": {
   "codemirror_mode": {
    "name": "ipython",
    "version": 3
   },
   "file_extension": ".py",
   "mimetype": "text/x-python",
   "name": "python",
   "nbconvert_exporter": "python",
   "pygments_lexer": "ipython3",
   "version": "3.9.12"
  }
 },
 "nbformat": 4,
 "nbformat_minor": 5
}
